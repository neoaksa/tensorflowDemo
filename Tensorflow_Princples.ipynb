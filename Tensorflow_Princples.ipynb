{
  "nbformat": 4,
  "nbformat_minor": 0,
  "metadata": {
    "colab": {
      "name": "Tensorflow Princples.ipynb",
      "version": "0.3.2",
      "provenance": [],
      "collapsed_sections": []
    },
    "kernelspec": {
      "name": "python3",
      "display_name": "Python 3"
    },
    "accelerator": "GPU"
  },
  "cells": [
    {
      "cell_type": "markdown",
      "metadata": {
        "id": "view-in-github",
        "colab_type": "text"
      },
      "source": [
        "[View in Colaboratory](https://colab.research.google.com/github/neoaksa/tensorflowDemo/blob/master/Tensorflow_Princples.ipynb)"
      ]
    },
    {
      "metadata": {
        "id": "Mxt4BKsbdY1h",
        "colab_type": "text"
      },
      "cell_type": "markdown",
      "source": [
        "\n",
        "\n",
        "-   Basic Concepts\n",
        "    - how session works\n",
        "    - type of loss function\n",
        "    - evalucation\n",
        "    \n",
        "-  [Natural Language](#NLP)\n",
        "    - Bagging words\n",
        "    - TF-IDF\n",
        "    - word2vec\n",
        "    - doc2vec\n",
        "\n"
      ]
    },
    {
      "metadata": {
        "id": "zmi9ysuUEHOG",
        "colab_type": "code",
        "colab": {
          "base_uri": "https://localhost:8080/",
          "height": 52
        },
        "outputId": "0f166bc2-7b53-42ce-8c29-b1399011b4d4"
      },
      "cell_type": "code",
      "source": [
        "# basic concepts of tf\n",
        "import tensorflow as tf\n",
        "# import tensorflow.nn as nn\n",
        "def custom_polynomial(value):\n",
        "  return(tf.subtract(3 * tf.square(value), value) + 10) \n",
        "with tf.Session() as sess:\n",
        "  print(sess.run(custom_polynomial(11)))\n",
        "  print(sess.run(tf.nn.relu(custom_polynomial(11))))"
      ],
      "execution_count": 7,
      "outputs": [
        {
          "output_type": "stream",
          "text": [
            "362\n",
            "362\n"
          ],
          "name": "stdout"
        }
      ]
    },
    {
      "metadata": {
        "id": "mMaSKw9lfIiD",
        "colab_type": "text"
      },
      "cell_type": "markdown",
      "source": [
        "#### without upper cap\n",
        "softplus [0, ++]\n",
        "Relu [0,++]\n",
        "ReLU6[0,6]\n",
        "ExpLU[-1, ++] # similar to ReLU+\n",
        "\n",
        "### with cap\n",
        "sigmoid [0,1]\n",
        "Tanh[-1,1]\n",
        "softsign [-1,1]\n"
      ]
    },
    {
      "metadata": {
        "id": "xsakKKYbGLW_",
        "colab_type": "code",
        "colab": {
          "base_uri": "https://localhost:8080/",
          "height": 86
        },
        "outputId": "937c89f3-fd6c-4821-ae07-9f6cb6ac4dbd"
      },
      "cell_type": "code",
      "source": [
        "# placeholder demo\n",
        "import numpy as np\n",
        "import tensorflow as tf\n",
        "x_arry = np.array([1,4,5,6])\n",
        "x_data = tf.placeholder(tf.float32)\n",
        "m_const = tf.constant(3.)\n",
        "m_product = tf.multiply(x_data,m_const)\n",
        "for x in x_arry:\n",
        "    with tf.Session() as sess:\n",
        "        print(sess.run(m_product, feed_dict={x_data:x}))\n",
        "    "
      ],
      "execution_count": 23,
      "outputs": [
        {
          "output_type": "stream",
          "text": [
            "3.0\n",
            "12.0\n",
            "15.0\n",
            "18.0\n"
          ],
          "name": "stdout"
        }
      ]
    },
    {
      "metadata": {
        "id": "bIYBpzxptoOX",
        "colab_type": "code",
        "colab": {
          "base_uri": "https://localhost:8080/",
          "height": 121
        },
        "outputId": "f17d7248-85a4-46a3-f5a1-8fa6bb74e045"
      },
      "cell_type": "code",
      "source": [
        "my_array = np.array([[1., 3., 5., 7., 9.], [-2., 0., 2., 4., 6.], [-6., -3., 0., 3., 6.]])\n",
        "x_vals = np.array([my_array, my_array + 1])\n",
        "x_data = tf.placeholder(tf.float32, shape=(3, None))\n",
        "\n",
        "m1 = tf.constant([[1.],[0.],[-1.],[2.],[4.]]) \n",
        "m2 = tf.constant([[2.]]) \n",
        "a1 = tf.constant([[10.]])\n",
        "\n",
        "prod1 = tf.matmul(x_data, m1) \n",
        "prod2 = tf.matmul(prod1, m2) \n",
        "add1 = tf.add(prod2, a1)\n",
        "\n",
        "for x_val in x_vals:\n",
        "    with tf.Session() as sess:\n",
        "        print(sess.run(add1, feed_dict={x_data: x_val}))"
      ],
      "execution_count": 26,
      "outputs": [
        {
          "output_type": "stream",
          "text": [
            "[[102.]\n",
            " [ 66.]\n",
            " [ 58.]]\n",
            "[[114.]\n",
            " [ 78.]\n",
            " [ 70.]]\n"
          ],
          "name": "stdout"
        }
      ]
    },
    {
      "metadata": {
        "id": "ACxz8xGjT6E-",
        "colab_type": "text"
      },
      "cell_type": "markdown",
      "source": [
        "### Type of loss function\n",
        "1. regression\n",
        "#### L2 norm loss\n",
        "tf.square(target - x_vals)\n",
        "#### L1 norm loss\n",
        "tf.abs(target - x_vals)\n",
        "#### Pseudo-huber loss\n",
        "tf.mul(tf.square(delta1), tf.sqrt(1. + tf.square((target - x_vals)/delta1)) - 1.)\n",
        "\n",
        "2. classification\n",
        "#### classification loss\n",
        "#### Hinge loss: two classes[1,-1]\n",
        "=tf.maximum(0., 1. - tf.mul(target, x_vals))\n",
        "#### Corss entorpy\n",
        "tf.mul(target, tf.log(x_vals)) - tf.mul((1. - target), tf.log(1. - x_vals))\n",
        "xentropy_y_out\n",
        "#### sigmod loss\n",
        "tf.nn.sigmoid_cross_entropy_with_ logits(x_vals, targets)\n",
        "#### weight corss entorpy\n",
        "= tf.nn.weighted_cross_entropy_with_ logits(x_vals, targets, weight)\n",
        "#### softmax corss-entropy\n",
        "tf.nn.softmax_cross_entropy_with_ logits(unscaled_logits, target_dist)\n",
        "#### sparse softmax cross-entropy\n",
        "tf.nn.sparse_softmax_cross_entropy_with_ logits(unscaled_logits, sparse_target_dist)"
      ]
    },
    {
      "metadata": {
        "id": "mJMQYzh-cGVK",
        "colab_type": "text"
      },
      "cell_type": "markdown",
      "source": [
        "### Model metric\n",
        "1. $R^2$: linear model\n",
        "2. RMSE:Regression model\n",
        "3. Confusion matrix: catgorial model\n",
        "4. Recall: catgorial model\n",
        "5. precision: categorical model\n",
        "6. F-score: categorial model"
      ]
    },
    {
      "metadata": {
        "id": "Kviga8aCZ-56",
        "colab_type": "text"
      },
      "cell_type": "markdown",
      "source": [
        "#### the basic processes \n",
        "1. create the data or prepare the data\n",
        "2. initialize placeholder and variables\n",
        "3. creat   a loss function\n",
        "4. defined an optimization algo\n",
        "5. iterate and update"
      ]
    },
    {
      "metadata": {
        "id": "Whi-rQS5Fzrk",
        "colab_type": "code",
        "colab": {
          "base_uri": "https://localhost:8080/",
          "height": 885
        },
        "outputId": "8e544c3d-8558-4958-b739-d36235565123"
      },
      "cell_type": "code",
      "source": [
        "# this is a demo\n",
        "import numpy as np\n",
        "import tensorflow as tf\n",
        "import matplotlib.pyplot as plt\n",
        "\n",
        "# general traning data\n",
        "x_vals = np.random.normal(1,0.1,100)\n",
        "y_vals = np.repeat(10.,100)\n",
        "# batch size\n",
        "batch_size = 20\n",
        "# input and output\n",
        "x = tf.placeholder(shape=[None,1], dtype=tf.float32)\n",
        "y = tf.placeholder(shape=[None,1], dtype=tf.float32)\n",
        "A = tf.Variable(tf.random_normal(shape=[1,1]))\n",
        "# formular\n",
        "output = tf.matmul(x,A)\n",
        "# loss function: mean of L2 loss function\n",
        "loss = tf.reduce_mean(tf.square(output - y))\n",
        "# training\n",
        "with tf.Session() as sess:\n",
        "    sess.run(tf.global_variables_initializer())\n",
        "    # optimaztr\n",
        "    # another opt: MoentumOPtimizer & AdagradOptimizer\n",
        "    opt = tf.train.GradientDescentOptimizer(learning_rate=0.01)\n",
        "    training = opt.minimize(loss)\n",
        "    # batch loss for recording loss and plot it\n",
        "    batch_loss = []\n",
        "    for i in range(300):\n",
        "        rand_index = np.random.choice(100, size=batch_size)\n",
        "        # transfer to 25*1\n",
        "        rand_x = np.transpose([x_vals[rand_index]])\n",
        "        rand_y = np.transpose([y_vals[rand_index]])\n",
        "        sess.run(training, feed_dict={x:rand_x,y:rand_y})\n",
        "        if(i+1)%25==0:\n",
        "            print('Step #'+str(i+1)+'and A='+str(sess.run(A)))\n",
        "            temp_loss = sess.run(loss,feed_dict={x:rand_x,y:rand_y})\n",
        "            batch_loss.append(temp_loss)\n",
        "    # plot loss\n",
        "    plt.plot(range(0,300,25),batch_loss,'r--',label='Batch loss, size=20')\n",
        "    plt.legend(loc='upper right',prop={'size':11})\n",
        "    plt.show()\n",
        "    # plot function\n",
        "    [[slope]] = sess.run(A)\n",
        "    linevalue = []\n",
        "    for i in x_vals:\n",
        "        linevalue.append(slope * i)\n",
        "    plt.plot(x_vals,linevalue,'b-')\n",
        "    plt.show()\n"
      ],
      "execution_count": 37,
      "outputs": [
        {
          "output_type": "stream",
          "text": [
            "Step #25and A=[[4.143956]]\n",
            "Step #50and A=[[6.4399414]]\n",
            "Step #75and A=[[7.7984047]]\n",
            "Step #100and A=[[8.588286]]\n",
            "Step #125and A=[[9.047281]]\n",
            "Step #150and A=[[9.320514]]\n",
            "Step #175and A=[[9.546187]]\n",
            "Step #200and A=[[9.625418]]\n",
            "Step #225and A=[[9.654477]]\n",
            "Step #250and A=[[9.720761]]\n",
            "Step #275and A=[[9.720877]]\n",
            "Step #300and A=[[9.750059]]\n"
          ],
          "name": "stdout"
        },
        {
          "output_type": "display_data",
          "data": {
            "image/png": "[encoded data removed]",
            "text/plain": [
              "<matplotlib.figure.Figure at 0x7f41ff131a90>"
            ]
          },
          "metadata": {
            "tags": []
          }
        },
        {
          "output_type": "display_data",
          "data": {
            "image/png": "[encoded data removed]",
            "text/plain": [
              "<matplotlib.figure.Figure at 0x7f41fbbd1400>"
            ]
          },
          "metadata": {
            "tags": []
          }
        }
      ]
    },
    {
      "metadata": {
        "id": "NudufydGB8oR",
        "colab_type": "text"
      },
      "cell_type": "markdown",
      "source": [
        "<b id=\"NLP\">Natural Language Processing</b>\n",
        "\n",
        "content:\n",
        "1. bag of words\n",
        "2. TF-IDF\n",
        "3. skip-gram and CBOW\n",
        "4. word2vec\n",
        "5. Doc2vec"
      ]
    },
    {
      "metadata": {
        "id": "mljaEbqkP7Id",
        "colab_type": "text"
      },
      "cell_type": "markdown",
      "source": [
        "#### Bag of words processes:\n",
        "1. lemmatize dataset\n",
        "2. embedding words. \n",
        "    * we use l**earn.preprocessing.VocabularyProcessor** to embedding words\n",
        "3. one-hot vector through identity matrix.(alternative way is using loop search) \n",
        "    * Use **tf.diag(tf.ones(shape=[embedding_size]) **to create identity matrix\n",
        "    * Use **tf.nn.embedding_lookup** to create one-hot vector\n",
        "4. build model. Here we use linear regression\n",
        "5. evaluation the model"
      ]
    },
    {
      "metadata": {
        "id": "13xI3h0RwIOk",
        "colab_type": "code",
        "colab": {
          "base_uri": "https://localhost:8080/",
          "height": 660
        },
        "outputId": "0ef63cbd-88da-4d00-8f6a-eb55d9612c3a"
      },
      "cell_type": "code",
      "source": [
        "# Bag of words\n",
        "import tensorflow as tf \n",
        "import matplotlib.pyplot as plt \n",
        "import os\n",
        "import numpy as np \n",
        "import csv \n",
        "import string \n",
        "import requests \n",
        "import io\n",
        "from zipfile import ZipFile \n",
        "from tensorflow.contrib import learn\n",
        "import nltk\n",
        "from nltk.tokenize import word_tokenize\n",
        "from nltk.stem import WordNetLemmatizer\n",
        "from sklearn.model_selection import train_test_split\n",
        "import pickle\n",
        "\n",
        "#-----prepare the data through URL\n",
        "save_file_name = os.path.join('','temp_spam_data.csv')\n",
        "# file existing\n",
        "if os.path.isfile(save_file_name): \n",
        "    text_data = []\n",
        "    with open(save_file_name, 'r') as temp_output_file: \n",
        "        reader = csv.reader(temp_output_file) \n",
        "        for row in reader:\n",
        "            text_data.append(row)\n",
        "# file not existing\n",
        "else:\n",
        "    zip_url = 'https://archive.ics.uci.edu/ml/machine-learning-databases/00228/smsspamcollection.zip'\n",
        "    # http request \n",
        "    r = requests.get(zip_url) \n",
        "    # transfer to zip object\n",
        "    z = ZipFile(io.BytesIO(r.content))\n",
        "    # unzip zip object\n",
        "    file = z.read('SMSSpamCollection') \n",
        "    # Format Data\n",
        "    text_data = file.decode()\n",
        "    text_data = text_data.encode('ascii',errors='ignore') \n",
        "    text_data = text_data.decode().split('\\n') \n",
        "    text_data = [x.split('\\t') for x in text_data if len(x)>=1]\n",
        "    # And write to csv\n",
        "    with open(save_file_name, 'w') as temp_output_file: \n",
        "        writer = csv.writer(temp_output_file) \n",
        "        writer.writerows(text_data) \n",
        "texts = [x[1] for x in text_data] \n",
        "target = [x[0] for x in text_data] \n",
        "# Relabel 'spam' as 1, 'ham' as 0\n",
        "target = [1.0 if x=='spam' else 0.0 for x in target]\n",
        "\n",
        "#-----preprocessing the texts\n",
        "# Convert to lower case\n",
        "texts = [x.lower() for x in texts] # Remove punctuation\n",
        "texts = [''.join(c for c in x if c not in string.punctuation) for x in texts]\n",
        "# Remove numbers\n",
        "texts = [''.join(c for c in x if c not in '0123456789') for x in texts]\n",
        "# Trim extra whitespace \n",
        "texts = [' '.join(x.split()) for x in texts]\n",
        "# Plot histogram of text lengths \n",
        "text_lengths = [len(x.split()) for x in texts]    \n",
        "text_lengths = [x for x in text_lengths if x < 50] \n",
        "plt.hist(text_lengths, bins=25)\n",
        "plt.title('Histogram of # of Words in Texts') \n",
        "# save \"texts\" for next section\n",
        "pickle.dump(texts,open('texts.obj','wb'))\n",
        "pickle.dump(target,open('target.obj','wb'))\n",
        "#-----embedding words by vocab_processor\n",
        "sentence_size = 25 \n",
        "min_word_freq = 3\n",
        "vocab_processor = learn.preprocessing.VocabularyProcessor(sentence_size, min_frequency=min_word_freq) \n",
        "vocab_processor.fit_transform(texts) \n",
        "embedding_size = len(vocab_processor.vocabulary_)\n",
        "# an example , you can beg any sentence into a vector\n",
        "print('this is a example for \"i me too\":'+ str(next(vocab_processor.transform(['i me too'])).tolist()))\n",
        "\n",
        "#------split dataset into traning and testing\n",
        "texts_train,texts_test,target_train,target_test = train_test_split(texts, target, test_size=0.33, random_state=42)\n",
        "\n",
        "#------traning\n",
        "# identiy matrix\n",
        "identity_mat = tf.diag(tf.ones(shape=[embedding_size]))\n",
        "# print(tf.Session().run(identity_mat))\n",
        "# logistic regression\n",
        "A = tf.Variable(tf.random_normal(shape=[embedding_size,1])) \n",
        "b = tf.Variable(tf.random_normal(shape=[1,1])) \n",
        "# Initialize placeholders\n",
        "x_data = tf.placeholder(shape=[sentence_size], dtype=tf.int32) \n",
        "y_target = tf.placeholder(shape=[1, 1], dtype=tf.float32)\n",
        "\n",
        "#-----embedding lookup will transfer to one hot vector\n",
        "# pick up index of each word from identity matrix\n",
        "x_embed = tf.nn.embedding_lookup(identity_mat, x_data)\n",
        "# combine to a vector of a sentence\n",
        "x_col_sums = tf.reduce_sum(x_embed, 0)\n",
        "# since A is shape [n,1], we need to expend input to [1,n]\n",
        "x_col_sums_2D = tf.expand_dims(x_col_sums, 0) \n",
        "model_output = tf.add(tf.matmul(x_col_sums_2D, A), b)\n",
        "# loss function\n",
        "loss = tf.reduce_mean(tf.nn.sigmoid_cross_entropy_with_logits(logits=model_output, labels=y_target))\n",
        "# Prediction operation\n",
        "prediction = tf.sigmoid(model_output) \n",
        "# Declare optimizer\n",
        "my_opt = tf.train.GradientDescentOptimizer(0.001) \n",
        "train_step = my_opt.minimize(loss)\n",
        "with tf.Session() as sess:\n",
        "    sess.run(tf.global_variables_initializer())\n",
        "    loss_vec = [] \n",
        "    train_acc_all = [] \n",
        "    train_acc_avg = []\n",
        "    for ix, t in enumerate(vocab_processor.fit_transform(texts_train)):\n",
        "        y_data = [[target_train[ix]]]\n",
        "        sess.run(train_step, feed_dict={x_data: t, y_target: y_data})\n",
        "        temp_loss = sess.run(loss, feed_dict={x_data: t, y_target: y_data})\n",
        "        loss_vec.append(temp_loss)\n",
        "        if (ix+1)%1000==0:\n",
        "            print('Training Observation #' + str(ix+1) + ': Loss = ' + str(temp_loss))\n",
        "        # Keep trailing average of past 50 observations accuracy # Get prediction of single observation\n",
        "        [[temp_pred]] = sess.run(prediction, feed_dict={x_data:t, y_target:y_data})\n",
        "        # Get True/False if prediction is accurate \n",
        "        train_acc_temp = target_train[ix]==np.round(temp_pred) \n",
        "        train_acc_all.append(train_acc_temp) \n",
        "        if len(train_acc_all) >= 50:\n",
        "            train_acc_avg.append(np.mean(train_acc_all[-50:]))\n",
        "    # evaluation\n",
        "    test_acc_all = []\n",
        "    for ix, t in enumerate(vocab_processor.fit_transform(texts_test)): \n",
        "        y_data = [[target_test[ix]]]\n",
        "        if (ix+1)%1000==0: \n",
        "            print('Test Observation #' + str(ix+1))\n",
        "        # Keep trailing average of past 50 observations accuracy\n",
        "        # Get prediction of single observation\n",
        "        [[temp_pred]] = sess.run(prediction, feed_dict={x_data:t, y_target:y_data})\n",
        "        # Get True/False if prediction is accurate \n",
        "        test_acc_temp = target_test[ix]==np.round(temp_pred) \n",
        "        test_acc_all.append(test_acc_temp)\n",
        "    print('\\nOverall Test Accuracy: {}'.format(np.mean(test_acc_all))) "
      ],
      "execution_count": 2,
      "outputs": [
        {
          "output_type": "stream",
          "text": [
            "WARNING:tensorflow:From <ipython-input-2-ef3e0ec7ff10>:68: VocabularyProcessor.__init__ (from tensorflow.contrib.learn.python.learn.preprocessing.text) is deprecated and will be removed in a future version.\n",
            "Instructions for updating:\n",
            "Please use tensorflow/transform or tf.data.\n",
            "WARNING:tensorflow:From /usr/local/lib/python3.6/dist-packages/tensorflow/contrib/learn/python/learn/preprocessing/text.py:154: CategoricalVocabulary.__init__ (from tensorflow.contrib.learn.python.learn.preprocessing.categorical_vocabulary) is deprecated and will be removed in a future version.\n",
            "Instructions for updating:\n",
            "Please use tensorflow/transform or tf.data.\n",
            "WARNING:tensorflow:From /usr/local/lib/python3.6/dist-packages/tensorflow/contrib/learn/python/learn/preprocessing/text.py:170: tokenizer (from tensorflow.contrib.learn.python.learn.preprocessing.text) is deprecated and will be removed in a future version.\n",
            "Instructions for updating:\n",
            "Please use tensorflow/transform or tf.data.\n",
            "this is a example for \"i me too\":[2, 10, 126, 0, 0, 0, 0, 0, 0, 0, 0, 0, 0, 0, 0, 0, 0, 0, 0, 0, 0, 0, 0, 0, 0]\n",
            "Training Observation #1000: Loss = 0.00024251365\n",
            "Training Observation #2000: Loss = 0.086721145\n",
            "Training Observation #3000: Loss = 0.24386543\n",
            "Test Observation #1000\n",
            "\n",
            "Overall Test Accuracy: 0.7940217391304348\n"
          ],
          "name": "stdout"
        },
        {
          "output_type": "display_data",
          "data": {
            "image/png": "[encoded data removed]",
            "text/plain": [
              "<matplotlib.figure.Figure at 0x7f65a14c8828>"
            ]
          },
          "metadata": {
            "tags": []
          }
        }
      ]
    },
    {
      "metadata": {
        "id": "v7YkeMhM4ixk",
        "colab_type": "text"
      },
      "cell_type": "markdown",
      "source": [
        "tokenlize can be aslo done by NLTK:\n",
        "\n",
        "```python\n",
        "words = word_tokenize(content)\n",
        "words = [lemmatizer.lemmatize(i) for i in words]\n",
        "lexicon = list(set(lexicon + words))\n",
        "```\n",
        "\n"
      ]
    },
    {
      "metadata": {
        "id": "sIh1TP6CfHWD",
        "colab_type": "text"
      },
      "cell_type": "markdown",
      "source": [
        "#### TF-IDF\n",
        "$w_{tf-idf} = w_{tf}\\cdot log(\\frac{1}{w_{df}}) $\n",
        "\n",
        "$w_{tf}$ is the word freq by document, $w_{df}$ is the total freq of such words across all documents.\n",
        "We can deduce that if a word exists in all documents, log(1/x) will close to 0. But if a word with high freq in a document and low freq in others, it should be important. \n",
        "\n",
        "**Here we use [sklearn.TfidfVectorizer](http://scikit-learn.org/stable/modules/generated/sklearn.feature_extraction.text.TfidfVectorizer.html)** to transfer \"texts\" to the weights for each words. "
      ]
    },
    {
      "metadata": {
        "id": "D4J_PF7OYxfY",
        "colab_type": "code",
        "colab": {
          "base_uri": "https://localhost:8080/",
          "height": 555
        },
        "outputId": "e3160d58-1fde-46f1-a9eb-413978416d44"
      },
      "cell_type": "code",
      "source": [
        "# TF-IDF \n",
        "# we resue the \"texts\" and 'target' object from the previous snippet\n",
        "import tensorflow as tf \n",
        "import matplotlib.pyplot as plt \n",
        "import csv\n",
        "import numpy as np \n",
        "import os\n",
        "import nltk\n",
        "from sklearn.feature_extraction.text import TfidfVectorizer\n",
        "from sklearn.model_selection import train_test_split\n",
        "import pickle\n",
        "\n",
        "# if some package of nltk doesnt exist, we should run this \n",
        "nltk.download('punkt')\n",
        "\n",
        "# contants\n",
        "batch_size = 200\n",
        "max_features = 1000\n",
        "# read prepocessed texts\n",
        "texts = pickle.load(open(\"texts.obj\",\"rb\"))\n",
        "target = pickle.load(open(\"target.obj\",\"rb\"))\n",
        "# tokenize\n",
        "def tokenizer(text):\n",
        "    words = nltk.word_tokenize(text)\n",
        "    return words\n",
        "# TF-IDF of texts by sklearning. Need to tell TfidVectorizer how to tokenize\n",
        "tfidf = TfidfVectorizer(tokenizer=tokenizer, stop_words='english', max_features=max_features)\n",
        "sparse_tfidf_texts = tfidf.fit_transform(texts)\n",
        "# print(len(texts))\n",
        "# print(sparse_tfidf_texts)\n",
        "#------split dataset into traning and testing\n",
        "texts_train,texts_test,target_train,target_test = train_test_split(sparse_tfidf_texts, target, test_size=0.33, random_state=42)\n",
        "#-----model structure\n",
        "A = tf.Variable(tf.random_normal(shape=[max_features,1])) \n",
        "b = tf.Variable(tf.random_normal(shape=[1,1])) \n",
        "# Initialize placeholders\n",
        "x_data = tf.placeholder(shape=[None, max_features], dtype=tf. float32)\n",
        "y_target = tf.placeholder(shape=[None, 1], dtype=tf.float32)\n",
        "model_output = tf.add(tf.matmul(x_data, A), b)\n",
        "loss = tf.reduce_mean(tf.nn.sigmoid_cross_entropy_with_logits(logits=model_output,labels= y_target))\n",
        "# for evaluation\n",
        "prediction = tf.round(tf.sigmoid(model_output))\n",
        "predictions_correct = tf.cast(tf.equal(prediction, y_target), tf.float32)\n",
        "accuracy = tf.reduce_mean(predictions_correct)\n",
        "my_opt = tf.train.GradientDescentOptimizer(0.0025) \n",
        "train_step = my_opt.minimize(loss)\n",
        "with tf.Session() as sess:\n",
        "    sess.run(tf.global_variables_initializer())\n",
        "    train_loss = [] \n",
        "    test_loss = [] \n",
        "    train_acc = [] \n",
        "    test_acc = [] \n",
        "    i_data = []\n",
        "    for i in range(10000):\n",
        "        rand_index = np.random.choice(texts_train.shape[0], size=batch_size)\n",
        "        rand_x = texts_train[rand_index].todense() \n",
        "        rand_y = np.asarray([target_train[x] for x in rand_index]).reshape(batch_size,1)\n",
        "        sess.run(train_step, feed_dict={x_data: rand_x, y_target:rand_y})\n",
        "        # Only record loss and accuracy every 100 generations \n",
        "        if (i+1)%100==0:\n",
        "            i_data.append(i+1) \n",
        "            train_loss_temp = sess.run(loss, feed_dict={x_data: rand_x, y_target: rand_y}) \n",
        "            train_loss.append(train_loss_temp)\n",
        "            test_loss_temp = sess.run(loss, feed_dict={x_data: texts_test.todense(), y_target: np.transpose([target_test])})\n",
        "            test_loss.append(test_loss_temp)\n",
        "            train_acc_temp = sess.run(accuracy, feed_dict={x_data: rand_x, y_target: rand_y})\n",
        "            train_acc.append(train_acc_temp)\n",
        "            test_acc_temp = sess.run(accuracy, feed_dict={x_data: texts_test.todense(), y_target: np.transpose([target_test])})\n",
        "            test_acc.append(test_acc_temp) \n",
        "        if (i+1)%1000==0:\n",
        "            acc_and_loss = [i+1, train_loss_temp, test_loss_temp, train_acc_temp, test_acc_temp]\n",
        "            acc_and_loss = [np.round(x,2) for x in acc_and_loss]\n",
        "            print('Generation # {}. Train Loss (Test Loss): {:.2f} ({:.2f}). Train Acc (Test Acc): {:.2f} ({:.2f})'.format(*acc_and_loss))\n",
        "# plot loss\n",
        "plt.plot(range(0,10000,100),train_loss,'r--',label='train loss, size=20')\n",
        "plt.plot(range(0,10000,100),test_loss,'b-',label='test loss, size=20')\n",
        "plt.legend(loc='upper right',prop={'size':11})\n",
        "plt.show()"
      ],
      "execution_count": 20,
      "outputs": [
        {
          "output_type": "stream",
          "text": [
            "[nltk_data] Downloading package punkt to /content/nltk_data...\n",
            "[nltk_data]   Package punkt is already up-to-date!\n",
            "Generation # 1000. Train Loss (Test Loss): 0.61 (0.67). Train Acc (Test Acc): 0.70 (0.61)\n",
            "Generation # 2000. Train Loss (Test Loss): 0.52 (0.54). Train Acc (Test Acc): 0.80 (0.75)\n",
            "Generation # 3000. Train Loss (Test Loss): 0.50 (0.48). Train Acc (Test Acc): 0.79 (0.80)\n",
            "Generation # 4000. Train Loss (Test Loss): 0.39 (0.46). Train Acc (Test Acc): 0.88 (0.83)\n",
            "Generation # 5000. Train Loss (Test Loss): 0.45 (0.45). Train Acc (Test Acc): 0.82 (0.84)\n",
            "Generation # 6000. Train Loss (Test Loss): 0.51 (0.44). Train Acc (Test Acc): 0.84 (0.85)\n",
            "Generation # 7000. Train Loss (Test Loss): 0.45 (0.44). Train Acc (Test Acc): 0.86 (0.85)\n",
            "Generation # 8000. Train Loss (Test Loss): 0.35 (0.43). Train Acc (Test Acc): 0.91 (0.85)\n",
            "Generation # 9000. Train Loss (Test Loss): 0.39 (0.43). Train Acc (Test Acc): 0.88 (0.85)\n",
            "Generation # 10000. Train Loss (Test Loss): 0.31 (0.43). Train Acc (Test Acc): 0.90 (0.85)\n"
          ],
          "name": "stdout"
        },
        {
          "output_type": "display_data",
          "data": {
            "image/png": "[encoded data removed]",
            "text/plain": [
              "<matplotlib.figure.Figure at 0x7f65778c2048>"
            ]
          },
          "metadata": {
            "tags": []
          }
        }
      ]
    },
    {
      "metadata": {
        "id": "m1SAqRbIOwzA",
        "colab_type": "text"
      },
      "cell_type": "markdown",
      "source": [
        "####  Word2Vec\n",
        "There are two way to ach"
      ]
    },
    {
      "metadata": {
        "id": "qV65T8vFrcGV",
        "colab_type": "code",
        "colab": {}
      },
      "cell_type": "code",
      "source": [
        ""
      ],
      "execution_count": 0,
      "outputs": []
    }
  ]
}