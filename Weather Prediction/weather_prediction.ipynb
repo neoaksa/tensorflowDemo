{
  "nbformat": 4,
  "nbformat_minor": 0,
  "metadata": {
    "colab": {
      "name": "weather prediction.ipynb",
      "version": "0.3.2",
      "provenance": []
    },
    "kernelspec": {
      "name": "python3",
      "display_name": "Python 3"
    },
    "accelerator": "GPU"
  },
  "cells": [
    {
      "cell_type": "markdown",
      "metadata": {
        "id": "view-in-github",
        "colab_type": "text"
      },
      "source": [
        "[View in Colaboratory](https://colab.research.google.com/github/neoaksa/tensorflowDemo/blob/master/Weather%20Prediction/weather_prediction.ipynb)"
      ]
    },
    {
      "metadata": {
        "id": "cr7zUc2GyKNP",
        "colab_type": "text"
      },
      "cell_type": "markdown",
      "source": [
        "This weather prediction model is used for snowy day in the next few days or hours. Since the weather condition is sequential, it is natural to use RNN to do the prediction.\n",
        "\n",
        "**Datasource**:  [Local Climatological Data (LCD)](https://www.ncdc.noaa.gov/cdo-web/datatools/lcd), here we picked up hourly condition report in the city of  \"Grand Rapids\" .\n",
        "\n",
        "**Target label**: *HourlyPresentWeatherType* where inculds \"***SN***\"."
      ]
    },
    {
      "metadata": {
        "id": "trYU3JlmshH_",
        "colab_type": "code",
        "colab": {
          "base_uri": "https://localhost:8080/",
          "height": 36
        },
        "outputId": "2eafd100-e289-4e52-b2da-47ed54a3a7e5"
      },
      "cell_type": "code",
      "source": [
        "import keras\n",
        "import tensorflow as tf\n",
        "import sys\n",
        "import pandas as pd\n",
        "import numpy\n",
        "import matplotlib.pyplot as plt"
      ],
      "execution_count": 1,
      "outputs": [
        {
          "output_type": "stream",
          "text": [
            "Using TensorFlow backend.\n"
          ],
          "name": "stderr"
        }
      ]
    },
    {
      "metadata": {
        "id": "2FfaqLR42b-A",
        "colab_type": "text"
      },
      "cell_type": "markdown",
      "source": [
        "The datasource(CSV) is stored in [Google drive](https://drive.google.com/file/d/1ab82uNDDxCGp_O7avHp9ISwyemviwzH_/view?usp=sharing). To save as object in Colab, we have to execute the following code:\n"
      ]
    },
    {
      "metadata": {
        "id": "9_FjvhjW3lNn",
        "colab_type": "code",
        "colab": {
          "base_uri": "https://localhost:8080/",
          "height": 203
        },
        "outputId": "2dfacd54-aeca-4981-bc3b-45cd992eb0a2"
      },
      "cell_type": "code",
      "source": [
        "! pip install pydrive\n",
        "# these classes allow you to request the Google drive API\n",
        "from pydrive.auth import GoogleAuth\n",
        "from pydrive.drive import GoogleDrive \n",
        "from google.colab import auth \n",
        "from oauth2client.client import GoogleCredentials\n",
        "from googleapiclient.discovery import build\n",
        "from google.colab import auth\n",
        "\n",
        "# authenticate google drive\n",
        "auth.authenticate_user()\n",
        "drive_service = build('drive', 'v3')\n",
        "# 1. Authenticate and create the PyDrive client.\n",
        "gauth = GoogleAuth()\n",
        "gauth.credentials = GoogleCredentials.get_application_default()\n",
        "drive = GoogleDrive(gauth)\n",
        "\n",
        "def downloadFile(inputfilename,outputfilename):\n",
        "    downloaded = drive.CreateFile({'id': inputfilename})\n",
        "    # assume the file is called file.csv and it's located at the root of your drive\n",
        "    downloaded.GetContentFile(outputfilename)\n",
        "# file download, the param is file id from google drive\n",
        "FileObj = downloadFile(\"1ab82uNDDxCGp_O7avHp9ISwyemviwzH_\",\"weather.csv\")"
      ],
      "execution_count": 20,
      "outputs": [
        {
          "output_type": "stream",
          "text": [
            "Requirement already satisfied: pydrive in /usr/local/lib/python3.6/dist-packages (1.3.1)\n",
            "Requirement already satisfied: google-api-python-client>=1.2 in /usr/local/lib/python3.6/dist-packages (from pydrive) (1.6.7)\n",
            "Requirement already satisfied: PyYAML>=3.0 in /usr/local/lib/python3.6/dist-packages (from pydrive) (3.12)\n",
            "Requirement already satisfied: oauth2client>=4.0.0 in /usr/local/lib/python3.6/dist-packages (from pydrive) (4.1.2)\n",
            "Requirement already satisfied: six<2dev,>=1.6.1 in /usr/local/lib/python3.6/dist-packages (from google-api-python-client>=1.2->pydrive) (1.11.0)\n",
            "Requirement already satisfied: uritemplate<4dev,>=3.0.0 in /usr/local/lib/python3.6/dist-packages (from google-api-python-client>=1.2->pydrive) (3.0.0)\n",
            "Requirement already satisfied: httplib2<1dev,>=0.9.2 in /usr/local/lib/python3.6/dist-packages (from google-api-python-client>=1.2->pydrive) (0.11.3)\n",
            "Requirement already satisfied: pyasn1>=0.1.7 in /usr/local/lib/python3.6/dist-packages (from oauth2client>=4.0.0->pydrive) (0.4.2)\n",
            "Requirement already satisfied: pyasn1-modules>=0.0.5 in /usr/local/lib/python3.6/dist-packages (from oauth2client>=4.0.0->pydrive) (0.2.1)\n",
            "Requirement already satisfied: rsa>=3.1.4 in /usr/local/lib/python3.6/dist-packages (from oauth2client>=4.0.0->pydrive) (3.4.2)\n"
          ],
          "name": "stdout"
        }
      ]
    },
    {
      "metadata": {
        "id": "TCaccnaFAojz",
        "colab_type": "text"
      },
      "cell_type": "markdown",
      "source": [
        "The data looks like mixed bunch of information. So, we use some filters to extract what we need:\n",
        "\n",
        "\n",
        "*   Delete Daily and Monthly columns\n",
        "*   Reporttype = 'FM-15', METAR Aviation routine weather report\n",
        "*   Set value to 1 when HOURLYPRSENTWEATHERTYPE contain SN otherwise 0\n",
        "*   Some dirty data(convert to None)\n",
        "\n"
      ]
    },
    {
      "metadata": {
        "id": "rUEpZXV38eXd",
        "colab_type": "code",
        "colab": {
          "base_uri": "https://localhost:8080/",
          "height": 357
        },
        "outputId": "e0f9a58e-79a5-45ad-b386-03a2b1d1b8fa"
      },
      "cell_type": "code",
      "source": [
        "# have a peek of data\n",
        "df = pd.read_csv(\"weather.csv\")\n",
        "df.set_index('DATE', inplace=True)\n",
        "# only choose winter time sequence\n",
        "df = df[(pd.to_numeric(df.index.str[5:7])<6) | (pd.to_numeric(df.index.str[5:7])>10)]\n",
        "df = df[(df.REPORTTPYE=='FM-15')]\n",
        "df = df.iloc[:,0:25]\n",
        "# delete duplicate or meanless data\n",
        "df = df.drop(columns=['STATION_NAME','HOURLYDRYBULBTEMPF','HOURLYWETBULBTEMPC',\n",
        "                      'HOURLYWETBULBTEMPF','HOURLYDewPointTempF','HOURLYSKYCONDITIONS',\n",
        "                      'HOURLYPressureTendency','HOURLYPressureChange','HOURLYSeaLevelPressure',\n",
        "                      'HOURLYAltimeterSetting','STATION','ELEVATION', 'LATITUDE', 'LONGITUDE','REPORTTPYE'])\n",
        "df.loc[df['HOURLYPRSENTWEATHERTYPE'].str.contains('SN',na=False),'HOURLYPRSENTWEATHERTYPE'] = 1\n",
        "df.loc[df['HOURLYPRSENTWEATHERTYPE'] != 1,'HOURLYPRSENTWEATHERTYPE'] = 0\n",
        "# handle some dirty data\n",
        "for column in df.columns:\n",
        "    df[column] = pd.to_numeric(df[column], errors='coerce')\n",
        "df = df.fillna(0)\n",
        "# show example \n",
        "df.describe()\n"
      ],
      "execution_count": 10,
      "outputs": [
        {
          "output_type": "stream",
          "text": [
            "/usr/local/lib/python3.6/dist-packages/IPython/core/interactiveshell.py:2718: DtypeWarning: Columns (10,11,12,13,14,15,16,17,23,25,44,45,63,64,67,69,85,87) have mixed types. Specify dtype option on import or set low_memory=False.\n",
            "  interactivity=interactivity, compiler=compiler, result=result)\n"
          ],
          "name": "stderr"
        },
        {
          "output_type": "execute_result",
          "data": {
            "text/html": [
              "<div>\n",
              "<style scoped>\n",
              "    .dataframe tbody tr th:only-of-type {\n",
              "        vertical-align: middle;\n",
              "    }\n",
              "\n",
              "    .dataframe tbody tr th {\n",
              "        vertical-align: top;\n",
              "    }\n",
              "\n",
              "    .dataframe thead th {\n",
              "        text-align: right;\n",
              "    }\n",
              "</style>\n",
              "<table border=\"1\" class=\"dataframe\">\n",
              "  <thead>\n",
              "    <tr style=\"text-align: right;\">\n",
              "      <th></th>\n",
              "      <th>HOURLYVISIBILITY</th>\n",
              "      <th>HOURLYPRSENTWEATHERTYPE</th>\n",
              "      <th>HOURLYDRYBULBTEMPC</th>\n",
              "      <th>HOURLYDewPointTempC</th>\n",
              "      <th>HOURLYRelativeHumidity</th>\n",
              "      <th>HOURLYWindSpeed</th>\n",
              "      <th>HOURLYWindDirection</th>\n",
              "      <th>HOURLYWindGustSpeed</th>\n",
              "      <th>HOURLYStationPressure</th>\n",
              "      <th>HOURLYPrecip</th>\n",
              "    </tr>\n",
              "  </thead>\n",
              "  <tbody>\n",
              "    <tr>\n",
              "      <th>count</th>\n",
              "      <td>23968.000000</td>\n",
              "      <td>23968.000000</td>\n",
              "      <td>23968.000000</td>\n",
              "      <td>23968.000000</td>\n",
              "      <td>23968.000000</td>\n",
              "      <td>23968.000000</td>\n",
              "      <td>23968.000000</td>\n",
              "      <td>23968.000000</td>\n",
              "      <td>23968.000000</td>\n",
              "      <td>23968.000000</td>\n",
              "    </tr>\n",
              "    <tr>\n",
              "      <th>mean</th>\n",
              "      <td>8.234970</td>\n",
              "      <td>0.127003</td>\n",
              "      <td>3.224395</td>\n",
              "      <td>-2.235034</td>\n",
              "      <td>70.129047</td>\n",
              "      <td>10.362901</td>\n",
              "      <td>189.683745</td>\n",
              "      <td>3.859604</td>\n",
              "      <td>29.089068</td>\n",
              "      <td>0.003716</td>\n",
              "    </tr>\n",
              "    <tr>\n",
              "      <th>std</th>\n",
              "      <td>2.991574</td>\n",
              "      <td>0.332983</td>\n",
              "      <td>9.518192</td>\n",
              "      <td>8.687414</td>\n",
              "      <td>17.610532</td>\n",
              "      <td>5.655466</td>\n",
              "      <td>100.310945</td>\n",
              "      <td>9.838010</td>\n",
              "      <td>1.513145</td>\n",
              "      <td>0.019611</td>\n",
              "    </tr>\n",
              "    <tr>\n",
              "      <th>min</th>\n",
              "      <td>0.000000</td>\n",
              "      <td>0.000000</td>\n",
              "      <td>-24.400000</td>\n",
              "      <td>-28.900000</td>\n",
              "      <td>0.000000</td>\n",
              "      <td>0.000000</td>\n",
              "      <td>0.000000</td>\n",
              "      <td>0.000000</td>\n",
              "      <td>0.000000</td>\n",
              "      <td>0.000000</td>\n",
              "    </tr>\n",
              "    <tr>\n",
              "      <th>25%</th>\n",
              "      <td>7.000000</td>\n",
              "      <td>0.000000</td>\n",
              "      <td>-3.300000</td>\n",
              "      <td>-8.300000</td>\n",
              "      <td>59.000000</td>\n",
              "      <td>7.000000</td>\n",
              "      <td>100.000000</td>\n",
              "      <td>0.000000</td>\n",
              "      <td>29.000000</td>\n",
              "      <td>0.000000</td>\n",
              "    </tr>\n",
              "    <tr>\n",
              "      <th>50%</th>\n",
              "      <td>10.000000</td>\n",
              "      <td>0.000000</td>\n",
              "      <td>2.200000</td>\n",
              "      <td>-2.200000</td>\n",
              "      <td>72.000000</td>\n",
              "      <td>9.000000</td>\n",
              "      <td>200.000000</td>\n",
              "      <td>0.000000</td>\n",
              "      <td>29.170000</td>\n",
              "      <td>0.000000</td>\n",
              "    </tr>\n",
              "    <tr>\n",
              "      <th>75%</th>\n",
              "      <td>10.000000</td>\n",
              "      <td>0.000000</td>\n",
              "      <td>9.400000</td>\n",
              "      <td>3.300000</td>\n",
              "      <td>84.000000</td>\n",
              "      <td>14.000000</td>\n",
              "      <td>270.000000</td>\n",
              "      <td>0.000000</td>\n",
              "      <td>29.340000</td>\n",
              "      <td>0.000000</td>\n",
              "    </tr>\n",
              "    <tr>\n",
              "      <th>max</th>\n",
              "      <td>10.000000</td>\n",
              "      <td>1.000000</td>\n",
              "      <td>33.900000</td>\n",
              "      <td>23.300000</td>\n",
              "      <td>100.000000</td>\n",
              "      <td>51.000000</td>\n",
              "      <td>360.000000</td>\n",
              "      <td>62.000000</td>\n",
              "      <td>29.880000</td>\n",
              "      <td>0.830000</td>\n",
              "    </tr>\n",
              "  </tbody>\n",
              "</table>\n",
              "</div>"
            ],
            "text/plain": [
              "       HOURLYVISIBILITY  HOURLYPRSENTWEATHERTYPE  HOURLYDRYBULBTEMPC  \\\n",
              "count      23968.000000             23968.000000        23968.000000   \n",
              "mean           8.234970                 0.127003            3.224395   \n",
              "std            2.991574                 0.332983            9.518192   \n",
              "min            0.000000                 0.000000          -24.400000   \n",
              "25%            7.000000                 0.000000           -3.300000   \n",
              "50%           10.000000                 0.000000            2.200000   \n",
              "75%           10.000000                 0.000000            9.400000   \n",
              "max           10.000000                 1.000000           33.900000   \n",
              "\n",
              "       HOURLYDewPointTempC  HOURLYRelativeHumidity  HOURLYWindSpeed  \\\n",
              "count         23968.000000            23968.000000     23968.000000   \n",
              "mean             -2.235034               70.129047        10.362901   \n",
              "std               8.687414               17.610532         5.655466   \n",
              "min             -28.900000                0.000000         0.000000   \n",
              "25%              -8.300000               59.000000         7.000000   \n",
              "50%              -2.200000               72.000000         9.000000   \n",
              "75%               3.300000               84.000000        14.000000   \n",
              "max              23.300000              100.000000        51.000000   \n",
              "\n",
              "       HOURLYWindDirection  HOURLYWindGustSpeed  HOURLYStationPressure  \\\n",
              "count         23968.000000         23968.000000           23968.000000   \n",
              "mean            189.683745             3.859604              29.089068   \n",
              "std             100.310945             9.838010               1.513145   \n",
              "min               0.000000             0.000000               0.000000   \n",
              "25%             100.000000             0.000000              29.000000   \n",
              "50%             200.000000             0.000000              29.170000   \n",
              "75%             270.000000             0.000000              29.340000   \n",
              "max             360.000000            62.000000              29.880000   \n",
              "\n",
              "       HOURLYPrecip  \n",
              "count  23968.000000  \n",
              "mean       0.003716  \n",
              "std        0.019611  \n",
              "min        0.000000  \n",
              "25%        0.000000  \n",
              "50%        0.000000  \n",
              "75%        0.000000  \n",
              "max        0.830000  "
            ]
          },
          "metadata": {
            "tags": []
          },
          "execution_count": 10
        }
      ]
    },
    {
      "metadata": {
        "id": "NjSdKf3LIhMj",
        "colab_type": "code",
        "colab": {}
      },
      "cell_type": "code",
      "source": [
        "# !pip install ipdb\n",
        "# import ipdb\n",
        "\n",
        "from sklearn.preprocessing import MinMaxScaler\n",
        "import numpy as np\n",
        "from sklearn.preprocessing import OneHotEncoder\n",
        "\n",
        "# scale the data\n",
        "scaler = MinMaxScaler()\n",
        "df_scaled = pd.DataFrame(scaler.fit_transform(df), columns=df.columns)\n",
        "# data generator\n",
        "# data: input dataframe\n",
        "# lookback: How many timesteps back should our input data go.\n",
        "# delay:How many timesteps in the future should our target be.\n",
        "# min_index and max_index: Indices in the data array that delimit which timesteps to draw from.\n",
        "# shuffle: Whether to shuffle our samples or draw them in chronological order.\n",
        "# batch_size: The number of samples per batch.\n",
        "# step: The period, in timesteps, at which we sample data. We will set it 6 in order to draw one data point every hour.\n",
        "# return a iterator\n",
        "# one hot encoding for target\n",
        "enc = OneHotEncoder()\n",
        "enc.fit([[1],[0]])\n",
        "def generator(data, lookback, delay, min_index, max_index,\n",
        "              shuffle=False, batch_size=20, step=6):\n",
        "    if max_index is None:\n",
        "        max_index = len(data) - delay - 1\n",
        "    i = min_index + lookback\n",
        "    while 1:\n",
        "        if shuffle:\n",
        "            rows = np.random.randint(\n",
        "                min_index + lookback, max_index, size=batch_size)\n",
        "        else:\n",
        "            if i + batch_size >= max_index:\n",
        "                i = min_index + lookback\n",
        "            rows = np.arange(i, min(i + batch_size, max_index))\n",
        "            i += len(rows)\n",
        "\n",
        "        samples = np.zeros((len(rows),        # rows size is same as number of batch\n",
        "                           lookback // step,  # this should be same as each indice\n",
        "                           data.shape[-1]))   # same as data_scale's column number\n",
        "        targets = np.zeros((len(rows),2))\n",
        "        # output processing\n",
        "        for j, row in enumerate(rows):\n",
        "            indices = range(rows[j] - lookback, rows[j], step)\n",
        "#             ipdb.set_trace()\n",
        "            samples[j] = data.iloc[indices]\n",
        "            targets[j] = enc.transform(data.iloc[rows[j] + delay][1]).toarray()\n",
        "#             targets[j] = data.iloc[rows[j] + delay][1]\n",
        "        yield samples, targets\n",
        "        \n",
        "# configure constant\n",
        "lookback = 48  # look back 48 hours\n",
        "step = 1 # 1 hour\n",
        "delay = 0 # predict current \n",
        "batch_size = 12\n",
        "\n",
        "# split data for training and validation\n",
        "max_train = int(df_scaled.shape[0]*0.6)\n",
        "max_val = int(df_scaled.shape[0]*0.80)\n",
        "# training set\n",
        "train_gen = generator(df_scaled,\n",
        "                      lookback=lookback,\n",
        "                      delay=delay,\n",
        "                      min_index=0,\n",
        "                      max_index=max_train,\n",
        "                      shuffle=True,\n",
        "                      step=step, \n",
        "                      batch_size=batch_size)\n",
        "# validation set\n",
        "val_gen = generator(df_scaled,\n",
        "                    lookback=lookback,\n",
        "                    delay=delay,\n",
        "                    min_index=max_train+1,\n",
        "                    max_index=max_val,\n",
        "                    step=step,\n",
        "                    batch_size=batch_size)\n",
        "# test set\n",
        "test_gen = generator(df_scaled,\n",
        "                     lookback=lookback,\n",
        "                     delay=delay,\n",
        "                     min_index=max_val+1,\n",
        "                     max_index=None,\n",
        "                     step=step,\n",
        "                     batch_size=batch_size)\n",
        "\n",
        "# This is how many steps to draw from `val_gen`\n",
        "val_steps = int((max_val - max_train - lookback) // batch_size)\n",
        "\n",
        "# This is how many steps to draw from `test_gen`\n",
        "test_steps = int((len(df_scaled) - max_val+1 - lookback) // batch_size)\n",
        "\n",
        "# for s,t in test_gen:\n",
        "#     di = s.shape\n",
        "#     print(di)\n",
        "#     print('------------------=============')"
      ],
      "execution_count": 0,
      "outputs": []
    },
    {
      "metadata": {
        "id": "6oB5we9budj6",
        "colab_type": "code",
        "colab": {
          "base_uri": "https://localhost:8080/",
          "height": 444
        },
        "outputId": "4c8fcb94-50b6-4df6-c4a0-c15da87f9e8d"
      },
      "cell_type": "code",
      "source": [
        "from keras.models import Sequential\n",
        "from keras import layers\n",
        "from keras import optimizers\n",
        "from keras.layers import Activation, Dense\n",
        "\n",
        "model = Sequential()\n",
        "model.add(layers.GRU(32,\n",
        "                     dropout=0.1,\n",
        "                     recurrent_dropout=0.2,\n",
        "                     return_sequences=True,\n",
        "                     input_shape=(None, df_scaled.shape[-1])))\n",
        "model.add(layers.GRU(64, activation='relu',\n",
        "                     dropout=0.1, \n",
        "                     recurrent_dropout=0.2))\n",
        "model.add(layers.Dense(2,activation='softmax'))\n",
        "\n",
        "opt = keras.optimizers.RMSprop(lr=0.001, rho=0.9, epsilon=None, decay=0.0)\n",
        "model.compile(optimizer=opt, loss='binary_crossentropy')\n",
        "history = model.fit_generator(train_gen,\n",
        "                              steps_per_epoch=500,\n",
        "                              epochs=10,\n",
        "                              validation_data=val_gen,\n",
        "                              validation_steps=val_steps)\n",
        "\n",
        "# evaluate on test\n",
        "score = model.evaluate_generator(val_gen, 100, workers=12)\n",
        "\n",
        "predict = model.predict_generator(val_gen, 100, workers=12)\n",
        "print(score)\n",
        "print(len(predict[(predict[:,1]>0.5)]))\n",
        "\n",
        "# save model\n",
        "model.save('weather.h5')\n",
        "# save to google drive folder:1QiH6uMc9VuZLku4rybq8Eey7rR2cBKW1 is id of sharefolder\n",
        "# authenticate google drive\n",
        "auth.authenticate_user()\n",
        "drive_service = build('drive', 'v3')\n",
        "# 1. Authenticate and create the PyDrive client.\n",
        "gauth = GoogleAuth()\n",
        "gauth.credentials = GoogleCredentials.get_application_default()\n",
        "drive = GoogleDrive(gauth)\n",
        "f = drive.CreateFile({\"parents\": [{\"kind\": \"drive#fileLink\",\"id\": '1QiH6uMc9VuZLku4rybq8Eey7rR2cBKW1'}]})\n",
        "f.SetContentFile('weather.h5')\n",
        "f.Upload()\n",
        "print('Uploaded file with ID {}'.format(f.get('id')))"
      ],
      "execution_count": 12,
      "outputs": [
        {
          "output_type": "stream",
          "text": [
            "Epoch 1/10\n",
            "500/500 [==============================] - 132s 264ms/step - loss: 0.2144 - val_loss: 0.1336\n",
            "Epoch 2/10\n",
            "328/500 [==================>...........] - ETA: 35s - loss: 0.1956"
          ],
          "name": "stdout"
        },
        {
          "output_type": "stream",
          "text": [
            "500/500 [==============================] - 130s 260ms/step - loss: 0.1909 - val_loss: 0.1561\n",
            "Epoch 3/10\n",
            "500/500 [==============================] - 130s 260ms/step - loss: 0.1838 - val_loss: 0.1483\n",
            "Epoch 4/10\n",
            "  7/500 [..............................] - ETA: 1:43 - loss: 0.2533"
          ],
          "name": "stdout"
        },
        {
          "output_type": "stream",
          "text": [
            "500/500 [==============================] - 128s 257ms/step - loss: 0.1761 - val_loss: 0.1476\n",
            "Epoch 5/10\n",
            "367/500 [=====================>........] - ETA: 27s - loss: 0.1933"
          ],
          "name": "stdout"
        },
        {
          "output_type": "stream",
          "text": [
            "500/500 [==============================] - 128s 257ms/step - loss: 0.1865 - val_loss: 0.1441\n",
            "Epoch 6/10\n",
            "500/500 [==============================] - 127s 255ms/step - loss: 0.1861 - val_loss: 0.1382\n",
            "Epoch 7/10\n",
            "  4/500 [..............................] - ETA: 1:43 - loss: 0.1260"
          ],
          "name": "stdout"
        },
        {
          "output_type": "stream",
          "text": [
            "500/500 [==============================] - 127s 254ms/step - loss: 0.1776 - val_loss: 0.1343\n",
            "Epoch 8/10\n",
            "332/500 [==================>...........] - ETA: 34s - loss: 0.1924"
          ],
          "name": "stdout"
        },
        {
          "output_type": "stream",
          "text": [
            "500/500 [==============================] - 125s 251ms/step - loss: 0.1908 - val_loss: 0.1558\n",
            "Epoch 9/10\n",
            "480/500 [===========================>..] - ETA: 3s - loss: 0.2031"
          ],
          "name": "stdout"
        },
        {
          "output_type": "stream",
          "text": [
            "500/500 [==============================] - 122s 245ms/step - loss: 0.2087 - val_loss: 0.1449\n",
            "Epoch 10/10\n",
            "500/500 [==============================] - 122s 243ms/step - loss: 0.3725 - val_loss: 0.1344\n",
            "0.2050441659707576\n",
            "171\n",
            "Uploaded file with ID 1XYvCSc8C9cs9j16bqJkjCoeAFrm9oLqG\n"
          ],
          "name": "stdout"
        }
      ]
    },
    {
      "metadata": {
        "id": "oJeXVTMXsMgJ",
        "colab_type": "code",
        "colab": {
          "base_uri": "https://localhost:8080/",
          "height": 362
        },
        "outputId": "8e68055f-4ce6-4fa7-bb4e-f45dd0947994"
      },
      "cell_type": "code",
      "source": [
        "loss = history.history['loss']\n",
        "val_loss = history.history['val_loss']\n",
        "\n",
        "epochs = range(len(loss))\n",
        "\n",
        "plt.figure()\n",
        "\n",
        "plt.plot(epochs, loss, 'r--', label='Training loss')\n",
        "plt.plot(epochs, val_loss, 'b', label='Validation loss')\n",
        "plt.title('Training and validation loss')\n",
        "plt.legend()\n",
        "\n",
        "plt.show()"
      ],
      "execution_count": 13,
      "outputs": [
        {
          "output_type": "display_data",
          "data": {
            "image/png": "[encoded data removed]",
            "text/plain": [
              "<matplotlib.figure.Figure at 0x7f6491ab9f28>"
            ]
          },
          "metadata": {
            "tags": []
          }
        }
      ]
    },
    {
      "metadata": {
        "id": "ocJiixauInJv",
        "colab_type": "code",
        "colab": {
          "base_uri": "https://localhost:8080/",
          "height": 73
        },
        "outputId": "b1bb86af-74ee-4c93-ace2-47359c39a986"
      },
      "cell_type": "code",
      "source": [
        "# index = 0\n",
        "# correct = 0\n",
        "# for s, t in test_gen:\n",
        "#         pred = model.predict(s)\n",
        "#         print('predit:{}'.format(pred.argmax(axis=1)))\n",
        "#         print('t:{}'.format(t.argmax(axis=1)))\n",
        "\n",
        "# evaluation according to test dataset\n",
        "index = 0\n",
        "correct = 0\n",
        "for s, t in test_gen:\n",
        "        pred = model.predict(s)\n",
        "        for s1,t1 in zip(pred.argmax(axis=1),t.argmax(axis=1)):\n",
        "            if s1 == t1:\n",
        "                correct += 1\n",
        "            index += 1\n",
        "        if index % 1000 == 0:\n",
        "            print('index:{0},correct:{1}'.format(index,correct/index)) \n",
        "        if index > 10000:\n",
        "            break\n"
      ],
      "execution_count": 14,
      "outputs": [
        {
          "output_type": "stream",
          "text": [
            "index:3000,correct:0.964\n",
            "index:6000,correct:0.9435\n",
            "index:9000,correct:0.9465555555555556\n"
          ],
          "name": "stdout"
        }
      ]
    },
    {
      "metadata": {
        "id": "wRM8YcXYFkvm",
        "colab_type": "text"
      },
      "cell_type": "markdown",
      "source": [
        "#### Deploy keras into andorid\n",
        "1. freeze model to \".pb\" file. \n",
        "2. deploy \".pb\" file on andorid project and make predictions. [Here](https://medium.com/joytunes/deploying-a-tensorflow-model-to-android-69d04d1b0cba/) is reference and code written by java.\n"
      ]
    },
    {
      "metadata": {
        "id": "8Vf4CcxZFh33",
        "colab_type": "code",
        "colab": {
          "base_uri": "https://localhost:8080/",
          "height": 780
        },
        "outputId": "dede70b6-e5e8-4f49-cf68-0604d22f5b74"
      },
      "cell_type": "code",
      "source": [
        "\"\"\"\n",
        "Copyright (c) 2017, by the Authors: Amir H. Abdi\n",
        "This software is freely available under the MIT Public License. \n",
        "Please see the License file in the root for details.\n",
        "\n",
        "The following code snippet will convert the keras model file,\n",
        "which is saved using model.save('kerasmodel_weight_file'),\n",
        "to the freezed .pb tensorflow weight file which holds both the \n",
        "network architecture and its associated weights.\n",
        "----------------------------------------------------------------\n",
        "Input arguments:\n",
        "\n",
        "num_output: this value has nothing to do with the number of classes, batch_size, etc., \n",
        "and it is mostly equal to 1. If the network is a **multi-stream network** \n",
        "(forked network with multiple outputs), set the value to the number of outputs.\n",
        "\n",
        "quantize: if set to True, use the quantize feature of Tensorflow\n",
        "(https://www.tensorflow.org/performance/quantization) [default: False]\n",
        "\n",
        "use_theano: Thaeno and Tensorflow implement convolution in different ways.\n",
        "When using Keras with Theano backend, the order is set to 'channels_first'.\n",
        "This feature is not fully tested, and doesn't work with quantizization [default: False]\n",
        "\n",
        "input_fld: directory holding the keras weights file [default: .]\n",
        "\n",
        "output_fld: destination directory to save the tensorflow files [default: .]\n",
        "\n",
        "input_model_file: name of the input weight file [default: 'model.h5']\n",
        "\n",
        "output_model_file: name of the output weight file [default: args.input_model_file + '.pb']\n",
        "\n",
        "graph_def: if set to True, will write the graph definition as an ascii file [default: False]\n",
        "\n",
        "output_graphdef_file: if graph_def is set to True, the file name of the \n",
        "graph definition [default: model.ascii]\n",
        "\n",
        "output_node_prefix: the prefix to use for output nodes. [default: output_node]\n",
        "\"\"\"\n",
        "\n",
        "import argparse\n",
        "parser = argparse.ArgumentParser(description='set input arguments')\n",
        "parser.add_argument('-input_fld', action=\"store\", \n",
        "                    dest='input_fld', type=str, default='.')\n",
        "parser.add_argument('-output_fld', action=\"store\", \n",
        "                    dest='output_fld', type=str, default='')\n",
        "parser.add_argument('-input_model_file', action=\"store\", \n",
        "                    dest='input_model_file', type=str, default='weather.h5')\n",
        "parser.add_argument('-output_model_file', action=\"store\", \n",
        "                    dest='output_model_file', type=str, default='')\n",
        "parser.add_argument('-output_graphdef_file', action=\"store\", \n",
        "                    dest='output_graphdef_file', type=str, default='model.ascii')\n",
        "parser.add_argument('-num_outputs', action=\"store\", \n",
        "                    dest='num_outputs', type=int, default=1)\n",
        "parser.add_argument('-graph_def', action=\"store\", \n",
        "                    dest='graph_def', type=bool, default=False)\n",
        "parser.add_argument('-output_node_prefix', action=\"store\", \n",
        "                    dest='output_node_prefix', type=str, default='output_node')\n",
        "parser.add_argument('-quantize', action=\"store\", \n",
        "                    dest='quantize', type=bool, default=False)\n",
        "parser.add_argument('-theano_backend', action=\"store\", \n",
        "                    dest='theano_backend', type=bool, default=False)\n",
        "parser.add_argument('-f')\n",
        "args = parser.parse_args()\n",
        "parser.print_help()\n",
        "print('input args: ', args)\n",
        "\n",
        "if args.theano_backend is True and args.quantize is True:\n",
        "    raise ValueError(\"Quantize feature does not work with theano backend.\")\n",
        "\n",
        "# initialization\n",
        "from keras.models import load_model\n",
        "import tensorflow as tf\n",
        "from pathlib import Path\n",
        "from keras import backend as K\n",
        "\n",
        "output_fld =  args.input_fld if args.output_fld == '' else args.output_fld\n",
        "if args.output_model_file == '':\n",
        "    args.output_model_file = str(Path(args.input_model_file).name) + '.pb'\n",
        "Path(output_fld).mkdir(parents=True, exist_ok=True)    \n",
        "weight_file_path = str(Path(args.input_fld) / args.input_model_file)\n",
        "    \n",
        "# load keras\n",
        "K.set_learning_phase(0)\n",
        "if args.theano_backend:\n",
        "    K.set_image_data_format('channels_first')\n",
        "else:\n",
        "    K.set_image_data_format('channels_last')\n",
        "\n",
        "try:\n",
        "    net_model = load_model(weight_file_path)\n",
        "except ValueError as err:\n",
        "    print('''Input file specified ({}) only holds the weights, and not the model defenition.\n",
        "    Save the model using mode.save(filename.h5) which will contain the network architecture\n",
        "    as well as its weights. \n",
        "    If the model is saved using model.save_weights(filename.h5), the model architecture is \n",
        "    expected to be saved separately in a json format and loaded prior to loading the weights.\n",
        "    Check the keras documentation for more details (https://keras.io/getting-started/faq/)'''\n",
        "          .format(weight_file_path))\n",
        "    raise err\n",
        "num_output = args.num_outputs\n",
        "pred = [None]*num_output\n",
        "pred_node_names = [None]*num_output\n",
        "for i in range(num_output):\n",
        "    pred_node_names[i] = args.output_node_prefix+str(i)\n",
        "    pred[i] = tf.identity(net_model.outputs[i], name=pred_node_names[i])\n",
        "print('output nodes names are: ', pred_node_names)\n",
        "                \n",
        "# ascii\n",
        "sess = K.get_session()\n",
        "\n",
        "if args.graph_def:\n",
        "    f = args.output_graphdef_file \n",
        "    tf.train.write_graph(sess.graph.as_graph_def(), output_fld, f, as_text=True)\n",
        "    print('saved the graph definition in ascii format at: ', str(Path(output_fld) / f))\n",
        "\n",
        "# convert and save\n",
        "from tensorflow.python.framework import graph_util\n",
        "from tensorflow.python.framework import graph_io\n",
        "from tensorflow.tools.graph_transforms import TransformGraph\n",
        "if args.quantize:\n",
        "    transforms = [\"quantize_weights\", \"quantize_nodes\"]\n",
        "    transformed_graph_def = TransformGraph(sess.graph.as_graph_def(), [], pred_node_names, transforms)\n",
        "    constant_graph = graph_util.convert_variables_to_constants(sess, transformed_graph_def, pred_node_names)\n",
        "else:\n",
        "    constant_graph = graph_util.convert_variables_to_constants(sess, sess.graph.as_graph_def(), pred_node_names)    \n",
        "graph_io.write_graph(constant_graph, output_fld, args.output_model_file, as_text=False)\n",
        "print('saved the freezed graph (ready for inference) at: ', str(Path(output_fld) / args.output_model_file))\n",
        "\n",
        "# update to google drive\n",
        "# Authenticate and create the PyDrive client.\n",
        "gauth = GoogleAuth()\n",
        "gauth.credentials = GoogleCredentials.get_application_default()\n",
        "drive = GoogleDrive(gauth)\n",
        "f = drive.CreateFile({\"parents\": [{\"kind\": \"drive#fileLink\",\"id\": '1QiH6uMc9VuZLku4rybq8Eey7rR2cBKW1'}]})\n",
        "f.SetContentFile('weather.h5.pb')\n",
        "f.Upload()\n",
        "print('Uploaded file with ID {}'.format(f.get('id')))\n",
        "# double check \n",
        "g = tf.GraphDef()\n",
        "g.ParseFromString(open(\"weather.h5.pb\", \"rb\").read())\n",
        "# check nodes\n",
        "[n for n in g.node if n.name.find(\"input\") != -1]\n",
        "[n for n in g.node if n.name.find(\"output\") != -1]\n"
      ],
      "execution_count": 33,
      "outputs": [
        {
          "output_type": "stream",
          "text": [
            "usage: ipykernel_launcher.py [-h] [-input_fld INPUT_FLD]\n",
            "                             [-output_fld OUTPUT_FLD]\n",
            "                             [-input_model_file INPUT_MODEL_FILE]\n",
            "                             [-output_model_file OUTPUT_MODEL_FILE]\n",
            "                             [-output_graphdef_file OUTPUT_GRAPHDEF_FILE]\n",
            "                             [-num_outputs NUM_OUTPUTS] [-graph_def GRAPH_DEF]\n",
            "                             [-output_node_prefix OUTPUT_NODE_PREFIX]\n",
            "                             [-quantize QUANTIZE]\n",
            "                             [-theano_backend THEANO_BACKEND] [-f F]\n",
            "\n",
            "set input arguments\n",
            "\n",
            "optional arguments:\n",
            "  -h, --help            show this help message and exit\n",
            "  -input_fld INPUT_FLD\n",
            "  -output_fld OUTPUT_FLD\n",
            "  -input_model_file INPUT_MODEL_FILE\n",
            "  -output_model_file OUTPUT_MODEL_FILE\n",
            "  -output_graphdef_file OUTPUT_GRAPHDEF_FILE\n",
            "  -num_outputs NUM_OUTPUTS\n",
            "  -graph_def GRAPH_DEF\n",
            "  -output_node_prefix OUTPUT_NODE_PREFIX\n",
            "  -quantize QUANTIZE\n",
            "  -theano_backend THEANO_BACKEND\n",
            "  -f F\n",
            "input args:  Namespace(f='/content/.local/share/jupyter/runtime/kernel-b715cc73-cbbd-433e-8da8-67f4460309a6.json', graph_def=False, input_fld='.', input_model_file='weather.h5', num_outputs=1, output_fld='', output_graphdef_file='model.ascii', output_model_file='', output_node_prefix='output_node', quantize=False, theano_backend=False)\n",
            "output nodes names are:  ['output_node0']\n",
            "INFO:tensorflow:Froze 8 variables.\n",
            "Converted 8 variables to const ops.\n",
            "saved the freezed graph (ready for inference) at:  weather.h5.pb\n",
            "Uploaded file with ID 18rk4DM6M7S9F3P0YDdO2VZLDzfEGcuEN\n"
          ],
          "name": "stdout"
        },
        {
          "output_type": "execute_result",
          "data": {
            "text/plain": [
              "[name: \"output_node0\"\n",
              " op: \"Identity\"\n",
              " input: \"dense_2_1/Softmax\"\n",
              " attr {\n",
              "   key: \"T\"\n",
              "   value {\n",
              "     type: DT_FLOAT\n",
              "   }\n",
              " }]"
            ]
          },
          "metadata": {
            "tags": []
          },
          "execution_count": 33
        }
      ]
    }
  ]
}